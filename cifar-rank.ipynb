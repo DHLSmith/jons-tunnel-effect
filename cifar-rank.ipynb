{
 "cells": [
  {
   "cell_type": "code",
   "execution_count": null,
   "id": "initial_id",
   "metadata": {
    "ExecuteTime": {
     "end_time": "2024-07-25T11:10:47.156402Z",
     "start_time": "2024-07-25T11:10:43.179965Z"
    }
   },
   "outputs": [],
   "source": [
    "import torch\n",
    "from utils.datasets import get_data\n",
    "\n",
    "n_classes, train_set, val_set = get_data(\"cifar10\", root=\"~/data\")\n",
    "\n",
    "dl = torch.utils.data.DataLoader(train_set, batch_size=len(train_set), shuffle=False)\n",
    "X, y = next(iter(dl))"
   ]
  },
  {
   "cell_type": "code",
   "execution_count": null,
   "id": "b344154d9f10cc6d",
   "metadata": {
    "ExecuteTime": {
     "end_time": "2024-07-25T11:10:47.159849Z",
     "start_time": "2024-07-25T11:10:47.157689Z"
    }
   },
   "outputs": [],
   "source": [
    "X.shape"
   ]
  },
  {
   "cell_type": "code",
   "execution_count": null,
   "id": "be47179fcaf104f7",
   "metadata": {
    "ExecuteTime": {
     "end_time": "2024-07-25T11:17:47.403678Z",
     "start_time": "2024-07-25T11:17:45.799892Z"
    }
   },
   "outputs": [],
   "source": [
    "from utils.rank import estimate_rank\n",
    "Xf = X.view(X.shape[0], -1)\n",
    "print(Xf.shape)\n",
    "print(estimate_rank(Xf))"
   ]
  },
  {
   "cell_type": "code",
   "execution_count": null,
   "id": "da7e19eb8d91929a",
   "metadata": {},
   "outputs": [],
   "source": []
  }
 ],
 "metadata": {
  "kernelspec": {
   "display_name": "Python 3 (ipykernel)",
   "language": "python",
   "name": "python3"
  },
  "language_info": {
   "codemirror_mode": {
    "name": "ipython",
    "version": 3
   },
   "file_extension": ".py",
   "mimetype": "text/x-python",
   "name": "python",
   "nbconvert_exporter": "python",
   "pygments_lexer": "ipython3",
   "version": "3.10.14"
  }
 },
 "nbformat": 4,
 "nbformat_minor": 5
}
