{
 "cells": [
  {
   "cell_type": "code",
   "id": "initial_id",
   "metadata": {
    "collapsed": true,
    "ExecuteTime": {
     "end_time": "2024-07-25T11:10:47.156402Z",
     "start_time": "2024-07-25T11:10:43.179965Z"
    }
   },
   "source": [
    "import torch\n",
    "from utils.datasets import get_data\n",
    "\n",
    "n_classes, train_set, val_set = get_data(\"cifar10\", root=\"/Users/jsh2/data\")\n",
    "\n",
    "dl = torch.utils.data.DataLoader(train_set, batch_size=len(train_set), shuffle=False)\n",
    "X, y = next(iter(dl))"
   ],
   "outputs": [
    {
     "name": "stdout",
     "output_type": "stream",
     "text": [
      "Files already downloaded and verified\n",
      "Files already downloaded and verified\n"
     ]
    }
   ],
   "execution_count": 19
  },
  {
   "metadata": {
    "ExecuteTime": {
     "end_time": "2024-07-25T11:10:47.159849Z",
     "start_time": "2024-07-25T11:10:47.157689Z"
    }
   },
   "cell_type": "code",
   "source": "X.shape",
   "id": "b344154d9f10cc6d",
   "outputs": [
    {
     "data": {
      "text/plain": [
       "torch.Size([50000, 3, 32, 32])"
      ]
     },
     "execution_count": 20,
     "metadata": {},
     "output_type": "execute_result"
    }
   ],
   "execution_count": 20
  },
  {
   "metadata": {
    "ExecuteTime": {
     "end_time": "2024-07-25T11:17:47.403678Z",
     "start_time": "2024-07-25T11:17:45.799892Z"
    }
   },
   "cell_type": "code",
   "source": [
    "from utils.rank import estimate_rank\n",
    "Xf = X.view(X.shape[0], -1)\n",
    "print(Xf.shape)\n",
    "print(estimate_rank(Xf))"
   ],
   "id": "be47179fcaf104f7",
   "outputs": [
    {
     "name": "stdout",
     "output_type": "stream",
     "text": [
      "torch.Size([50000, 3072])\n",
      "193\n"
     ]
    }
   ],
   "execution_count": 24
  },
  {
   "metadata": {},
   "cell_type": "code",
   "outputs": [],
   "execution_count": null,
   "source": "",
   "id": "da7e19eb8d91929a"
  }
 ],
 "metadata": {
  "kernelspec": {
   "display_name": "Python 3",
   "language": "python",
   "name": "python3"
  },
  "language_info": {
   "codemirror_mode": {
    "name": "ipython",
    "version": 2
   },
   "file_extension": ".py",
   "mimetype": "text/x-python",
   "name": "python",
   "nbconvert_exporter": "python",
   "pygments_lexer": "ipython2",
   "version": "2.7.6"
  }
 },
 "nbformat": 4,
 "nbformat_minor": 5
}
